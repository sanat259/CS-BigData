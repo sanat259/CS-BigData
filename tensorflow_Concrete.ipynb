{
  "nbformat": 4,
  "nbformat_minor": 0,
  "metadata": {
    "colab": {
      "name": "tensorflow Concrete.ipynb",
      "provenance": [],
      "collapsed_sections": [],
      "authorship_tag": "ABX9TyPHjqvRUPD78L9+z/gzMgCk",
      "include_colab_link": true
    },
    "kernelspec": {
      "name": "python3",
      "display_name": "Python 3"
    }
  },
  "cells": [
    {
      "cell_type": "markdown",
      "metadata": {
        "id": "view-in-github",
        "colab_type": "text"
      },
      "source": [
        "<a href=\"https://colab.research.google.com/github/sanat259/CS-BigData/blob/master/tensorflow_Concrete.ipynb\" target=\"_parent\"><img src=\"https://colab.research.google.com/assets/colab-badge.svg\" alt=\"Open In Colab\"/></a>"
      ]
    },
    {
      "cell_type": "code",
      "metadata": {
        "colab": {
          "base_uri": "https://localhost:8080/"
        },
        "id": "WRCKnA7tRvMb",
        "outputId": "3807c082-5d4c-4026-82cd-023203af3d17"
      },
      "source": [
        "!pip install tensorflow"
      ],
      "execution_count": null,
      "outputs": [
        {
          "output_type": "stream",
          "text": [
            "Requirement already satisfied: tensorflow in /usr/local/lib/python3.7/dist-packages (2.4.1)\n",
            "Requirement already satisfied: h5py~=2.10.0 in /usr/local/lib/python3.7/dist-packages (from tensorflow) (2.10.0)\n",
            "Requirement already satisfied: flatbuffers~=1.12.0 in /usr/local/lib/python3.7/dist-packages (from tensorflow) (1.12)\n",
            "Requirement already satisfied: numpy~=1.19.2 in /usr/local/lib/python3.7/dist-packages (from tensorflow) (1.19.5)\n",
            "Requirement already satisfied: termcolor~=1.1.0 in /usr/local/lib/python3.7/dist-packages (from tensorflow) (1.1.0)\n",
            "Requirement already satisfied: protobuf>=3.9.2 in /usr/local/lib/python3.7/dist-packages (from tensorflow) (3.12.4)\n",
            "Requirement already satisfied: tensorboard~=2.4 in /usr/local/lib/python3.7/dist-packages (from tensorflow) (2.4.1)\n",
            "Requirement already satisfied: absl-py~=0.10 in /usr/local/lib/python3.7/dist-packages (from tensorflow) (0.10.0)\n",
            "Requirement already satisfied: google-pasta~=0.2 in /usr/local/lib/python3.7/dist-packages (from tensorflow) (0.2.0)\n",
            "Requirement already satisfied: six~=1.15.0 in /usr/local/lib/python3.7/dist-packages (from tensorflow) (1.15.0)\n",
            "Requirement already satisfied: typing-extensions~=3.7.4 in /usr/local/lib/python3.7/dist-packages (from tensorflow) (3.7.4.3)\n",
            "Requirement already satisfied: keras-preprocessing~=1.1.2 in /usr/local/lib/python3.7/dist-packages (from tensorflow) (1.1.2)\n",
            "Requirement already satisfied: tensorflow-estimator<2.5.0,>=2.4.0 in /usr/local/lib/python3.7/dist-packages (from tensorflow) (2.4.0)\n",
            "Requirement already satisfied: grpcio~=1.32.0 in /usr/local/lib/python3.7/dist-packages (from tensorflow) (1.32.0)\n",
            "Requirement already satisfied: opt-einsum~=3.3.0 in /usr/local/lib/python3.7/dist-packages (from tensorflow) (3.3.0)\n",
            "Requirement already satisfied: wheel~=0.35 in /usr/local/lib/python3.7/dist-packages (from tensorflow) (0.36.2)\n",
            "Requirement already satisfied: astunparse~=1.6.3 in /usr/local/lib/python3.7/dist-packages (from tensorflow) (1.6.3)\n",
            "Requirement already satisfied: wrapt~=1.12.1 in /usr/local/lib/python3.7/dist-packages (from tensorflow) (1.12.1)\n",
            "Requirement already satisfied: gast==0.3.3 in /usr/local/lib/python3.7/dist-packages (from tensorflow) (0.3.3)\n",
            "Requirement already satisfied: setuptools in /usr/local/lib/python3.7/dist-packages (from protobuf>=3.9.2->tensorflow) (53.0.0)\n",
            "Requirement already satisfied: requests<3,>=2.21.0 in /usr/local/lib/python3.7/dist-packages (from tensorboard~=2.4->tensorflow) (2.23.0)\n",
            "Requirement already satisfied: tensorboard-plugin-wit>=1.6.0 in /usr/local/lib/python3.7/dist-packages (from tensorboard~=2.4->tensorflow) (1.8.0)\n",
            "Requirement already satisfied: google-auth-oauthlib<0.5,>=0.4.1 in /usr/local/lib/python3.7/dist-packages (from tensorboard~=2.4->tensorflow) (0.4.2)\n",
            "Requirement already satisfied: markdown>=2.6.8 in /usr/local/lib/python3.7/dist-packages (from tensorboard~=2.4->tensorflow) (3.3.4)\n",
            "Requirement already satisfied: google-auth<2,>=1.6.3 in /usr/local/lib/python3.7/dist-packages (from tensorboard~=2.4->tensorflow) (1.27.0)\n",
            "Requirement already satisfied: werkzeug>=0.11.15 in /usr/local/lib/python3.7/dist-packages (from tensorboard~=2.4->tensorflow) (1.0.1)\n",
            "Requirement already satisfied: certifi>=2017.4.17 in /usr/local/lib/python3.7/dist-packages (from requests<3,>=2.21.0->tensorboard~=2.4->tensorflow) (2020.12.5)\n",
            "Requirement already satisfied: urllib3!=1.25.0,!=1.25.1,<1.26,>=1.21.1 in /usr/local/lib/python3.7/dist-packages (from requests<3,>=2.21.0->tensorboard~=2.4->tensorflow) (1.24.3)\n",
            "Requirement already satisfied: idna<3,>=2.5 in /usr/local/lib/python3.7/dist-packages (from requests<3,>=2.21.0->tensorboard~=2.4->tensorflow) (2.10)\n",
            "Requirement already satisfied: chardet<4,>=3.0.2 in /usr/local/lib/python3.7/dist-packages (from requests<3,>=2.21.0->tensorboard~=2.4->tensorflow) (3.0.4)\n",
            "Requirement already satisfied: requests-oauthlib>=0.7.0 in /usr/local/lib/python3.7/dist-packages (from google-auth-oauthlib<0.5,>=0.4.1->tensorboard~=2.4->tensorflow) (1.3.0)\n",
            "Requirement already satisfied: importlib-metadata; python_version < \"3.8\" in /usr/local/lib/python3.7/dist-packages (from markdown>=2.6.8->tensorboard~=2.4->tensorflow) (3.7.0)\n",
            "Requirement already satisfied: rsa<5,>=3.1.4; python_version >= \"3.6\" in /usr/local/lib/python3.7/dist-packages (from google-auth<2,>=1.6.3->tensorboard~=2.4->tensorflow) (4.7.2)\n",
            "Requirement already satisfied: pyasn1-modules>=0.2.1 in /usr/local/lib/python3.7/dist-packages (from google-auth<2,>=1.6.3->tensorboard~=2.4->tensorflow) (0.2.8)\n",
            "Requirement already satisfied: cachetools<5.0,>=2.0.0 in /usr/local/lib/python3.7/dist-packages (from google-auth<2,>=1.6.3->tensorboard~=2.4->tensorflow) (4.2.1)\n",
            "Requirement already satisfied: oauthlib>=3.0.0 in /usr/local/lib/python3.7/dist-packages (from requests-oauthlib>=0.7.0->google-auth-oauthlib<0.5,>=0.4.1->tensorboard~=2.4->tensorflow) (3.1.0)\n",
            "Requirement already satisfied: zipp>=0.5 in /usr/local/lib/python3.7/dist-packages (from importlib-metadata; python_version < \"3.8\"->markdown>=2.6.8->tensorboard~=2.4->tensorflow) (3.4.0)\n",
            "Requirement already satisfied: pyasn1>=0.1.3 in /usr/local/lib/python3.7/dist-packages (from rsa<5,>=3.1.4; python_version >= \"3.6\"->google-auth<2,>=1.6.3->tensorboard~=2.4->tensorflow) (0.4.8)\n"
          ],
          "name": "stdout"
        }
      ]
    },
    {
      "cell_type": "markdown",
      "metadata": {
        "id": "JtRVcyPxSEyn"
      },
      "source": [
        "import tensorflow as tf\r\n"
      ]
    },
    {
      "cell_type": "code",
      "metadata": {
        "id": "yOo5K396SKPo"
      },
      "source": [
        "import tensorflow as tf\r\n",
        "import pandas as pd\r\n",
        "\r\n",
        "import numpy as np\r\n",
        "from tensorflow.keras.models import Sequential\r\n",
        "from tensorflow.keras.layers import Dense, Activation\r\n",
        "from keras import metrics"
      ],
      "execution_count": null,
      "outputs": []
    },
    {
      "cell_type": "code",
      "metadata": {
        "colab": {
          "base_uri": "https://localhost:8080/",
          "height": 195
        },
        "id": "CTK-8aCLSNsS",
        "outputId": "fa88cf19-1615-4dd3-9b6c-16bcc0e9e2f1"
      },
      "source": [
        "df = pd.read_csv(\"/content/Concrete_Data.csv\")\r\n",
        "df.head()"
      ],
      "execution_count": null,
      "outputs": [
        {
          "output_type": "execute_result",
          "data": {
            "text/html": [
              "<div>\n",
              "<style scoped>\n",
              "    .dataframe tbody tr th:only-of-type {\n",
              "        vertical-align: middle;\n",
              "    }\n",
              "\n",
              "    .dataframe tbody tr th {\n",
              "        vertical-align: top;\n",
              "    }\n",
              "\n",
              "    .dataframe thead th {\n",
              "        text-align: right;\n",
              "    }\n",
              "</style>\n",
              "<table border=\"1\" class=\"dataframe\">\n",
              "  <thead>\n",
              "    <tr style=\"text-align: right;\">\n",
              "      <th></th>\n",
              "      <th>Cement</th>\n",
              "      <th>Blast</th>\n",
              "      <th>Fly</th>\n",
              "      <th>Water</th>\n",
              "      <th>Superplasticizer</th>\n",
              "      <th>Coarse</th>\n",
              "      <th>Fine</th>\n",
              "      <th>Age</th>\n",
              "      <th>Strength</th>\n",
              "    </tr>\n",
              "  </thead>\n",
              "  <tbody>\n",
              "    <tr>\n",
              "      <th>0</th>\n",
              "      <td>540.0</td>\n",
              "      <td>0.0</td>\n",
              "      <td>0.0</td>\n",
              "      <td>162.0</td>\n",
              "      <td>2.5</td>\n",
              "      <td>1040.0</td>\n",
              "      <td>676.0</td>\n",
              "      <td>28</td>\n",
              "      <td>79.99</td>\n",
              "    </tr>\n",
              "    <tr>\n",
              "      <th>1</th>\n",
              "      <td>540.0</td>\n",
              "      <td>0.0</td>\n",
              "      <td>0.0</td>\n",
              "      <td>162.0</td>\n",
              "      <td>2.5</td>\n",
              "      <td>1055.0</td>\n",
              "      <td>676.0</td>\n",
              "      <td>28</td>\n",
              "      <td>61.89</td>\n",
              "    </tr>\n",
              "    <tr>\n",
              "      <th>2</th>\n",
              "      <td>332.5</td>\n",
              "      <td>142.5</td>\n",
              "      <td>0.0</td>\n",
              "      <td>228.0</td>\n",
              "      <td>0.0</td>\n",
              "      <td>932.0</td>\n",
              "      <td>594.0</td>\n",
              "      <td>270</td>\n",
              "      <td>40.27</td>\n",
              "    </tr>\n",
              "    <tr>\n",
              "      <th>3</th>\n",
              "      <td>332.5</td>\n",
              "      <td>142.5</td>\n",
              "      <td>0.0</td>\n",
              "      <td>228.0</td>\n",
              "      <td>0.0</td>\n",
              "      <td>932.0</td>\n",
              "      <td>594.0</td>\n",
              "      <td>365</td>\n",
              "      <td>41.05</td>\n",
              "    </tr>\n",
              "    <tr>\n",
              "      <th>4</th>\n",
              "      <td>198.6</td>\n",
              "      <td>132.4</td>\n",
              "      <td>0.0</td>\n",
              "      <td>192.0</td>\n",
              "      <td>0.0</td>\n",
              "      <td>978.4</td>\n",
              "      <td>825.5</td>\n",
              "      <td>360</td>\n",
              "      <td>44.30</td>\n",
              "    </tr>\n",
              "  </tbody>\n",
              "</table>\n",
              "</div>"
            ],
            "text/plain": [
              "   Cement  Blast  Fly  Water  Superplasticizer  Coarse   Fine  Age  Strength\n",
              "0   540.0    0.0  0.0  162.0               2.5  1040.0  676.0   28     79.99\n",
              "1   540.0    0.0  0.0  162.0               2.5  1055.0  676.0   28     61.89\n",
              "2   332.5  142.5  0.0  228.0               0.0   932.0  594.0  270     40.27\n",
              "3   332.5  142.5  0.0  228.0               0.0   932.0  594.0  365     41.05\n",
              "4   198.6  132.4  0.0  192.0               0.0   978.4  825.5  360     44.30"
            ]
          },
          "metadata": {
            "tags": []
          },
          "execution_count": 9
        }
      ]
    },
    {
      "cell_type": "code",
      "metadata": {
        "colab": {
          "base_uri": "https://localhost:8080/"
        },
        "id": "YZROO-w8SUyF",
        "outputId": "3508701d-ce8d-4b68-8141-d80cd8c11fe0"
      },
      "source": [
        "from sklearn.preprocessing import MinMaxScaler\r\n",
        "X = df.iloc[:,:-1]\r\n",
        "y = df.iloc[:,-1]\r\n",
        "y"
      ],
      "execution_count": null,
      "outputs": [
        {
          "output_type": "execute_result",
          "data": {
            "text/plain": [
              "0       79.99\n",
              "1       61.89\n",
              "2       40.27\n",
              "3       41.05\n",
              "4       44.30\n",
              "        ...  \n",
              "1025    44.28\n",
              "1026    31.18\n",
              "1027    23.70\n",
              "1028    32.77\n",
              "1029    32.40\n",
              "Name: Strength, Length: 1030, dtype: float64"
            ]
          },
          "metadata": {
            "tags": []
          },
          "execution_count": 8
        }
      ]
    },
    {
      "cell_type": "code",
      "metadata": {
        "colab": {
          "base_uri": "https://localhost:8080/",
          "height": 195
        },
        "id": "LXRAlVIrSvHR",
        "outputId": "7092e1a6-740c-4965-92ba-3644deda80e6"
      },
      "source": [
        "m = MinMaxScaler()\r\n",
        "X_scaled = m.fit_transform(X)\r\n",
        "X_scaled = pd.DataFrame(X_scaled, columns=X.columns)\r\n",
        "X_scaled.head()"
      ],
      "execution_count": null,
      "outputs": [
        {
          "output_type": "execute_result",
          "data": {
            "text/html": [
              "<div>\n",
              "<style scoped>\n",
              "    .dataframe tbody tr th:only-of-type {\n",
              "        vertical-align: middle;\n",
              "    }\n",
              "\n",
              "    .dataframe tbody tr th {\n",
              "        vertical-align: top;\n",
              "    }\n",
              "\n",
              "    .dataframe thead th {\n",
              "        text-align: right;\n",
              "    }\n",
              "</style>\n",
              "<table border=\"1\" class=\"dataframe\">\n",
              "  <thead>\n",
              "    <tr style=\"text-align: right;\">\n",
              "      <th></th>\n",
              "      <th>Cement</th>\n",
              "      <th>Blast</th>\n",
              "      <th>Fly</th>\n",
              "      <th>Water</th>\n",
              "      <th>Superplasticizer</th>\n",
              "      <th>Coarse</th>\n",
              "      <th>Fine</th>\n",
              "      <th>Age</th>\n",
              "    </tr>\n",
              "  </thead>\n",
              "  <tbody>\n",
              "    <tr>\n",
              "      <th>0</th>\n",
              "      <td>1.000000</td>\n",
              "      <td>0.000000</td>\n",
              "      <td>0.0</td>\n",
              "      <td>0.321086</td>\n",
              "      <td>0.07764</td>\n",
              "      <td>0.694767</td>\n",
              "      <td>0.205720</td>\n",
              "      <td>0.074176</td>\n",
              "    </tr>\n",
              "    <tr>\n",
              "      <th>1</th>\n",
              "      <td>1.000000</td>\n",
              "      <td>0.000000</td>\n",
              "      <td>0.0</td>\n",
              "      <td>0.321086</td>\n",
              "      <td>0.07764</td>\n",
              "      <td>0.738372</td>\n",
              "      <td>0.205720</td>\n",
              "      <td>0.074176</td>\n",
              "    </tr>\n",
              "    <tr>\n",
              "      <th>2</th>\n",
              "      <td>0.526256</td>\n",
              "      <td>0.396494</td>\n",
              "      <td>0.0</td>\n",
              "      <td>0.848243</td>\n",
              "      <td>0.00000</td>\n",
              "      <td>0.380814</td>\n",
              "      <td>0.000000</td>\n",
              "      <td>0.739011</td>\n",
              "    </tr>\n",
              "    <tr>\n",
              "      <th>3</th>\n",
              "      <td>0.526256</td>\n",
              "      <td>0.396494</td>\n",
              "      <td>0.0</td>\n",
              "      <td>0.848243</td>\n",
              "      <td>0.00000</td>\n",
              "      <td>0.380814</td>\n",
              "      <td>0.000000</td>\n",
              "      <td>1.000000</td>\n",
              "    </tr>\n",
              "    <tr>\n",
              "      <th>4</th>\n",
              "      <td>0.220548</td>\n",
              "      <td>0.368392</td>\n",
              "      <td>0.0</td>\n",
              "      <td>0.560703</td>\n",
              "      <td>0.00000</td>\n",
              "      <td>0.515698</td>\n",
              "      <td>0.580783</td>\n",
              "      <td>0.986264</td>\n",
              "    </tr>\n",
              "  </tbody>\n",
              "</table>\n",
              "</div>"
            ],
            "text/plain": [
              "     Cement     Blast  Fly  ...    Coarse      Fine       Age\n",
              "0  1.000000  0.000000  0.0  ...  0.694767  0.205720  0.074176\n",
              "1  1.000000  0.000000  0.0  ...  0.738372  0.205720  0.074176\n",
              "2  0.526256  0.396494  0.0  ...  0.380814  0.000000  0.739011\n",
              "3  0.526256  0.396494  0.0  ...  0.380814  0.000000  1.000000\n",
              "4  0.220548  0.368392  0.0  ...  0.515698  0.580783  0.986264\n",
              "\n",
              "[5 rows x 8 columns]"
            ]
          },
          "metadata": {
            "tags": []
          },
          "execution_count": 11
        }
      ]
    },
    {
      "cell_type": "code",
      "metadata": {
        "colab": {
          "base_uri": "https://localhost:8080/"
        },
        "id": "3KfBYeaCTg-e",
        "outputId": "96d82c0e-adb0-467f-b16f-aa1fe58368b1"
      },
      "source": [
        "X_scaled.shape"
      ],
      "execution_count": null,
      "outputs": [
        {
          "output_type": "execute_result",
          "data": {
            "text/plain": [
              "(1030, 8)"
            ]
          },
          "metadata": {
            "tags": []
          },
          "execution_count": 13
        }
      ]
    },
    {
      "cell_type": "code",
      "metadata": {
        "id": "fbakG6XXTqP8"
      },
      "source": [
        "from sklearn.model_selection import train_test_split \r\n",
        "X_train, X_test, y_train, y_test = train_test_split(X, y, test_size = 0.3, \r\n",
        "                                                    random_state=2019)"
      ],
      "execution_count": null,
      "outputs": []
    },
    {
      "cell_type": "code",
      "metadata": {
        "colab": {
          "base_uri": "https://localhost:8080/"
        },
        "id": "CVj_7gMDTuBW",
        "outputId": "22f27071-201d-4f42-95c2-7a146dcefd91"
      },
      "source": [
        "(X_train.shape, y_train.shape)"
      ],
      "execution_count": null,
      "outputs": [
        {
          "output_type": "execute_result",
          "data": {
            "text/plain": [
              "((721, 8), (721,))"
            ]
          },
          "metadata": {
            "tags": []
          },
          "execution_count": 17
        }
      ]
    },
    {
      "cell_type": "code",
      "metadata": {
        "id": "xtFCzF3xTx0F"
      },
      "source": [
        "import numpy as np\r\n",
        "tf.random.set_seed(2020)"
      ],
      "execution_count": null,
      "outputs": []
    },
    {
      "cell_type": "code",
      "metadata": {
        "id": "IQOM52nXT7MJ"
      },
      "source": [
        "model = Sequential([\r\n",
        "   tf.keras.layers.Dense(10, input_dim=X_train.shape[1], activation='relu'),\r\n",
        "   tf.keras.layers.Dense(8,  activation='relu'),\r\n",
        "   tf.keras.layers.Dense(5,  activation='relu'),\r\n",
        "   tf.keras.layers.Dense(3,  activation='relu'),\r\n",
        "   tf.keras.layers.Dense(1, activation='relu')\r\n",
        "])"
      ],
      "execution_count": null,
      "outputs": []
    },
    {
      "cell_type": "code",
      "metadata": {
        "id": "mz054eqIUpIA"
      },
      "source": [
        "\r\n",
        "model.compile(optimizer='adam', loss='mean_squared_error', metrics=['mae'])"
      ],
      "execution_count": null,
      "outputs": []
    },
    {
      "cell_type": "code",
      "metadata": {
        "colab": {
          "base_uri": "https://localhost:8080/"
        },
        "id": "vpXj9UC1VWGA",
        "outputId": "81b5ca4c-ab4d-4b82-ba3b-3aff3880df72"
      },
      "source": [
        "from tensorflow.keras.callbacks import EarlyStopping\r\n",
        "monitor = EarlyStopping(monitor='val_loss', min_delta=0.001, patience=10, verbose=2, mode='auto',\r\n",
        "        restore_best_weights=True)\r\n",
        "\r\n",
        "history  = model.fit(X_train.values, y_train.values,\r\n",
        "          epochs=200, verbose=2, \r\n",
        "          callbacks=[monitor],\r\n",
        "          validation_data=(X_test.values, y_test.values))"
      ],
      "execution_count": null,
      "outputs": [
        {
          "output_type": "stream",
          "text": [
            "Epoch 1/200\n",
            "23/23 - 1s - loss: 845.7314 - mae: 24.1568 - val_loss: 569.0028 - val_mae: 18.6952\n",
            "Epoch 2/200\n",
            "23/23 - 0s - loss: 351.1325 - mae: 14.9452 - val_loss: 349.8723 - val_mae: 15.1779\n",
            "Epoch 3/200\n",
            "23/23 - 0s - loss: 312.0179 - mae: 14.2441 - val_loss: 342.0555 - val_mae: 15.1014\n",
            "Epoch 4/200\n",
            "23/23 - 0s - loss: 309.3217 - mae: 14.2579 - val_loss: 334.1847 - val_mae: 14.7323\n",
            "Epoch 5/200\n",
            "23/23 - 0s - loss: 293.1588 - mae: 13.8380 - val_loss: 330.2091 - val_mae: 14.4926\n",
            "Epoch 6/200\n",
            "23/23 - 0s - loss: 286.7727 - mae: 13.6754 - val_loss: 317.1657 - val_mae: 14.2654\n",
            "Epoch 7/200\n",
            "23/23 - 0s - loss: 278.4989 - mae: 13.4724 - val_loss: 311.8123 - val_mae: 14.0101\n",
            "Epoch 8/200\n",
            "23/23 - 0s - loss: 268.9243 - mae: 13.2416 - val_loss: 281.0864 - val_mae: 13.4619\n",
            "Epoch 9/200\n",
            "23/23 - 0s - loss: 236.8383 - mae: 12.3080 - val_loss: 224.5872 - val_mae: 12.0319\n",
            "Epoch 10/200\n",
            "23/23 - 0s - loss: 207.7992 - mae: 11.5486 - val_loss: 254.8509 - val_mae: 12.4975\n",
            "Epoch 11/200\n",
            "23/23 - 0s - loss: 204.1948 - mae: 11.4450 - val_loss: 197.3623 - val_mae: 11.5204\n",
            "Epoch 12/200\n",
            "23/23 - 0s - loss: 184.1043 - mae: 10.8279 - val_loss: 177.9176 - val_mae: 10.9203\n",
            "Epoch 13/200\n",
            "23/23 - 0s - loss: 170.1065 - mae: 10.3889 - val_loss: 169.7466 - val_mae: 10.6240\n",
            "Epoch 14/200\n",
            "23/23 - 0s - loss: 162.8458 - mae: 10.2084 - val_loss: 160.7324 - val_mae: 10.3810\n",
            "Epoch 15/200\n",
            "23/23 - 0s - loss: 154.9026 - mae: 9.9412 - val_loss: 158.9361 - val_mae: 10.1703\n",
            "Epoch 16/200\n",
            "23/23 - 0s - loss: 150.4530 - mae: 9.8081 - val_loss: 151.9994 - val_mae: 9.9368\n",
            "Epoch 17/200\n",
            "23/23 - 0s - loss: 137.6277 - mae: 9.3300 - val_loss: 142.8901 - val_mae: 9.7934\n",
            "Epoch 18/200\n",
            "23/23 - 0s - loss: 135.3727 - mae: 9.3129 - val_loss: 128.5013 - val_mae: 9.1160\n",
            "Epoch 19/200\n",
            "23/23 - 0s - loss: 127.8502 - mae: 9.0536 - val_loss: 124.1443 - val_mae: 8.9393\n",
            "Epoch 20/200\n",
            "23/23 - 0s - loss: 125.5161 - mae: 8.9072 - val_loss: 125.0137 - val_mae: 8.9304\n",
            "Epoch 21/200\n",
            "23/23 - 0s - loss: 128.8474 - mae: 9.0636 - val_loss: 132.8199 - val_mae: 9.1847\n",
            "Epoch 22/200\n",
            "23/23 - 0s - loss: 122.4686 - mae: 8.7530 - val_loss: 114.6592 - val_mae: 8.5142\n",
            "Epoch 23/200\n",
            "23/23 - 0s - loss: 118.1264 - mae: 8.6195 - val_loss: 111.4561 - val_mae: 8.3923\n",
            "Epoch 24/200\n",
            "23/23 - 0s - loss: 116.3163 - mae: 8.5251 - val_loss: 108.8168 - val_mae: 8.2609\n",
            "Epoch 25/200\n",
            "23/23 - 0s - loss: 112.6672 - mae: 8.3630 - val_loss: 107.5813 - val_mae: 8.2055\n",
            "Epoch 26/200\n",
            "23/23 - 0s - loss: 110.9466 - mae: 8.2978 - val_loss: 112.0028 - val_mae: 8.3788\n",
            "Epoch 27/200\n",
            "23/23 - 0s - loss: 112.5524 - mae: 8.3057 - val_loss: 105.0194 - val_mae: 8.1032\n",
            "Epoch 28/200\n",
            "23/23 - 0s - loss: 111.3912 - mae: 8.2438 - val_loss: 123.4869 - val_mae: 9.0520\n",
            "Epoch 29/200\n",
            "23/23 - 0s - loss: 111.9541 - mae: 8.3365 - val_loss: 103.0357 - val_mae: 8.0329\n",
            "Epoch 30/200\n",
            "23/23 - 0s - loss: 110.2038 - mae: 8.2814 - val_loss: 103.0907 - val_mae: 7.9835\n",
            "Epoch 31/200\n",
            "23/23 - 0s - loss: 109.9914 - mae: 8.1498 - val_loss: 101.1382 - val_mae: 7.9081\n",
            "Epoch 32/200\n",
            "23/23 - 0s - loss: 104.0163 - mae: 7.9354 - val_loss: 99.2150 - val_mae: 7.8402\n",
            "Epoch 33/200\n",
            "23/23 - 0s - loss: 103.3064 - mae: 7.8832 - val_loss: 98.8913 - val_mae: 7.8753\n",
            "Epoch 34/200\n",
            "23/23 - 0s - loss: 102.6165 - mae: 7.8473 - val_loss: 102.5622 - val_mae: 8.0826\n",
            "Epoch 35/200\n",
            "23/23 - 0s - loss: 103.9778 - mae: 7.9536 - val_loss: 94.5739 - val_mae: 7.6107\n",
            "Epoch 36/200\n",
            "23/23 - 0s - loss: 100.2437 - mae: 7.7951 - val_loss: 101.2938 - val_mae: 7.8769\n",
            "Epoch 37/200\n",
            "23/23 - 0s - loss: 103.3910 - mae: 7.9122 - val_loss: 92.5384 - val_mae: 7.5357\n",
            "Epoch 38/200\n",
            "23/23 - 0s - loss: 108.8446 - mae: 8.0965 - val_loss: 91.2395 - val_mae: 7.4653\n",
            "Epoch 39/200\n",
            "23/23 - 0s - loss: 97.7373 - mae: 7.6230 - val_loss: 95.8458 - val_mae: 7.7708\n",
            "Epoch 40/200\n",
            "23/23 - 0s - loss: 95.2212 - mae: 7.5246 - val_loss: 93.0815 - val_mae: 7.4777\n",
            "Epoch 41/200\n",
            "23/23 - 0s - loss: 94.8416 - mae: 7.5046 - val_loss: 88.7448 - val_mae: 7.3278\n",
            "Epoch 42/200\n",
            "23/23 - 0s - loss: 96.9427 - mae: 7.6684 - val_loss: 88.1686 - val_mae: 7.3256\n",
            "Epoch 43/200\n",
            "23/23 - 0s - loss: 92.9081 - mae: 7.4455 - val_loss: 89.9383 - val_mae: 7.3188\n",
            "Epoch 44/200\n",
            "23/23 - 0s - loss: 92.4547 - mae: 7.3174 - val_loss: 87.6790 - val_mae: 7.2374\n",
            "Epoch 45/200\n",
            "23/23 - 0s - loss: 91.1619 - mae: 7.3002 - val_loss: 85.5780 - val_mae: 7.1752\n",
            "Epoch 46/200\n",
            "23/23 - 0s - loss: 89.4383 - mae: 7.2187 - val_loss: 86.3418 - val_mae: 7.2456\n",
            "Epoch 47/200\n",
            "23/23 - 0s - loss: 90.6329 - mae: 7.3059 - val_loss: 84.1041 - val_mae: 7.0908\n",
            "Epoch 48/200\n",
            "23/23 - 0s - loss: 92.7429 - mae: 7.3241 - val_loss: 86.0678 - val_mae: 7.2450\n",
            "Epoch 49/200\n",
            "23/23 - 0s - loss: 88.5568 - mae: 7.2023 - val_loss: 82.7256 - val_mae: 7.0471\n",
            "Epoch 50/200\n",
            "23/23 - 0s - loss: 87.6488 - mae: 7.1279 - val_loss: 82.7226 - val_mae: 7.0609\n",
            "Epoch 51/200\n",
            "23/23 - 0s - loss: 87.6235 - mae: 7.1528 - val_loss: 82.6403 - val_mae: 7.0116\n",
            "Epoch 52/200\n",
            "23/23 - 0s - loss: 86.8154 - mae: 7.1309 - val_loss: 83.0300 - val_mae: 7.0979\n",
            "Epoch 53/200\n",
            "23/23 - 0s - loss: 86.3893 - mae: 7.0708 - val_loss: 86.3597 - val_mae: 7.3373\n",
            "Epoch 54/200\n",
            "23/23 - 0s - loss: 89.3550 - mae: 7.2985 - val_loss: 84.3815 - val_mae: 7.2263\n",
            "Epoch 55/200\n",
            "23/23 - 0s - loss: 86.7536 - mae: 7.1349 - val_loss: 81.3017 - val_mae: 6.9408\n",
            "Epoch 56/200\n",
            "23/23 - 0s - loss: 86.9322 - mae: 7.0930 - val_loss: 96.3619 - val_mae: 7.9430\n",
            "Epoch 57/200\n",
            "23/23 - 0s - loss: 89.1638 - mae: 7.3207 - val_loss: 80.0259 - val_mae: 6.9212\n",
            "Epoch 58/200\n",
            "23/23 - 0s - loss: 84.6273 - mae: 6.9950 - val_loss: 81.8382 - val_mae: 7.1011\n",
            "Epoch 59/200\n",
            "23/23 - 0s - loss: 82.3264 - mae: 6.9163 - val_loss: 80.6801 - val_mae: 6.8914\n",
            "Epoch 60/200\n",
            "23/23 - 0s - loss: 82.8839 - mae: 6.9245 - val_loss: 87.3343 - val_mae: 7.4526\n",
            "Epoch 61/200\n",
            "23/23 - 0s - loss: 82.8831 - mae: 6.9583 - val_loss: 86.3234 - val_mae: 7.3987\n",
            "Epoch 62/200\n",
            "23/23 - 0s - loss: 86.5624 - mae: 7.1721 - val_loss: 77.2405 - val_mae: 6.7916\n",
            "Epoch 63/200\n",
            "23/23 - 0s - loss: 81.6394 - mae: 6.8951 - val_loss: 80.2559 - val_mae: 7.0561\n",
            "Epoch 64/200\n",
            "23/23 - 0s - loss: 86.1674 - mae: 7.1726 - val_loss: 80.3358 - val_mae: 7.0574\n",
            "Epoch 65/200\n",
            "23/23 - 0s - loss: 86.5328 - mae: 7.1586 - val_loss: 77.2569 - val_mae: 6.8769\n",
            "Epoch 66/200\n",
            "23/23 - 0s - loss: 80.6024 - mae: 6.8271 - val_loss: 75.6853 - val_mae: 6.7141\n",
            "Epoch 67/200\n",
            "23/23 - 0s - loss: 78.8191 - mae: 6.6950 - val_loss: 74.9310 - val_mae: 6.7198\n",
            "Epoch 68/200\n",
            "23/23 - 0s - loss: 79.8703 - mae: 6.7984 - val_loss: 74.8990 - val_mae: 6.6983\n",
            "Epoch 69/200\n",
            "23/23 - 0s - loss: 78.1646 - mae: 6.6894 - val_loss: 76.3478 - val_mae: 6.8603\n",
            "Epoch 70/200\n",
            "23/23 - 0s - loss: 78.7229 - mae: 6.8226 - val_loss: 75.4335 - val_mae: 6.6796\n",
            "Epoch 71/200\n",
            "23/23 - 0s - loss: 79.3201 - mae: 6.9121 - val_loss: 76.6768 - val_mae: 6.6827\n",
            "Epoch 72/200\n",
            "23/23 - 0s - loss: 76.8710 - mae: 6.6736 - val_loss: 83.4495 - val_mae: 7.2734\n",
            "Epoch 73/200\n",
            "23/23 - 0s - loss: 78.0158 - mae: 6.7125 - val_loss: 75.6841 - val_mae: 6.8339\n",
            "Epoch 74/200\n",
            "23/23 - 0s - loss: 78.2212 - mae: 6.7888 - val_loss: 75.1485 - val_mae: 6.6152\n",
            "Epoch 75/200\n",
            "23/23 - 0s - loss: 74.9456 - mae: 6.5582 - val_loss: 79.6513 - val_mae: 7.0552\n",
            "Epoch 76/200\n",
            "23/23 - 0s - loss: 78.9306 - mae: 6.7674 - val_loss: 79.0420 - val_mae: 7.0325\n",
            "Epoch 77/200\n",
            "23/23 - 0s - loss: 78.2882 - mae: 6.8113 - val_loss: 75.1358 - val_mae: 6.8119\n",
            "Epoch 78/200\n",
            "23/23 - 0s - loss: 75.6406 - mae: 6.6724 - val_loss: 73.6268 - val_mae: 6.7206\n",
            "Epoch 79/200\n",
            "23/23 - 0s - loss: 75.6813 - mae: 6.5824 - val_loss: 74.1011 - val_mae: 6.7642\n",
            "Epoch 80/200\n",
            "23/23 - 0s - loss: 74.7688 - mae: 6.6102 - val_loss: 72.4073 - val_mae: 6.5063\n",
            "Epoch 81/200\n",
            "23/23 - 0s - loss: 78.9465 - mae: 6.8914 - val_loss: 71.7387 - val_mae: 6.5330\n",
            "Epoch 82/200\n",
            "23/23 - 0s - loss: 74.8197 - mae: 6.5403 - val_loss: 71.1165 - val_mae: 6.5242\n",
            "Epoch 83/200\n",
            "23/23 - 0s - loss: 75.1828 - mae: 6.6307 - val_loss: 70.9296 - val_mae: 6.4871\n",
            "Epoch 84/200\n",
            "23/23 - 0s - loss: 73.0736 - mae: 6.5193 - val_loss: 70.1754 - val_mae: 6.5182\n",
            "Epoch 85/200\n",
            "23/23 - 0s - loss: 75.3054 - mae: 6.6767 - val_loss: 69.6553 - val_mae: 6.4600\n",
            "Epoch 86/200\n",
            "23/23 - 0s - loss: 79.4985 - mae: 6.8536 - val_loss: 72.4269 - val_mae: 6.6902\n",
            "Epoch 87/200\n",
            "23/23 - 0s - loss: 73.1939 - mae: 6.5304 - val_loss: 69.1946 - val_mae: 6.4320\n",
            "Epoch 88/200\n",
            "23/23 - 0s - loss: 73.2689 - mae: 6.5325 - val_loss: 69.8041 - val_mae: 6.4889\n",
            "Epoch 89/200\n",
            "23/23 - 0s - loss: 72.5871 - mae: 6.4907 - val_loss: 72.9677 - val_mae: 6.7309\n",
            "Epoch 90/200\n",
            "23/23 - 0s - loss: 72.5119 - mae: 6.5007 - val_loss: 69.2993 - val_mae: 6.4953\n",
            "Epoch 91/200\n",
            "23/23 - 0s - loss: 74.9850 - mae: 6.6907 - val_loss: 68.4187 - val_mae: 6.4090\n",
            "Epoch 92/200\n",
            "23/23 - 0s - loss: 71.2265 - mae: 6.4822 - val_loss: 69.1499 - val_mae: 6.4749\n",
            "Epoch 93/200\n",
            "23/23 - 0s - loss: 71.1154 - mae: 6.4545 - val_loss: 70.8797 - val_mae: 6.3988\n",
            "Epoch 94/200\n",
            "23/23 - 0s - loss: 69.8070 - mae: 6.3448 - val_loss: 67.5795 - val_mae: 6.3400\n",
            "Epoch 95/200\n",
            "23/23 - 0s - loss: 68.9203 - mae: 6.3352 - val_loss: 73.8375 - val_mae: 6.7962\n",
            "Epoch 96/200\n",
            "23/23 - 0s - loss: 70.7071 - mae: 6.3775 - val_loss: 76.7575 - val_mae: 6.9424\n",
            "Epoch 97/200\n",
            "23/23 - 0s - loss: 71.8146 - mae: 6.4723 - val_loss: 66.5158 - val_mae: 6.2717\n",
            "Epoch 98/200\n",
            "23/23 - 0s - loss: 68.5369 - mae: 6.1791 - val_loss: 66.8830 - val_mae: 6.2543\n",
            "Epoch 99/200\n",
            "23/23 - 0s - loss: 67.5684 - mae: 6.1591 - val_loss: 67.5656 - val_mae: 6.4097\n",
            "Epoch 100/200\n",
            "23/23 - 0s - loss: 68.3266 - mae: 6.3206 - val_loss: 71.9765 - val_mae: 6.6794\n",
            "Epoch 101/200\n",
            "23/23 - 0s - loss: 67.6943 - mae: 6.2298 - val_loss: 66.1569 - val_mae: 6.3022\n",
            "Epoch 102/200\n",
            "23/23 - 0s - loss: 68.0207 - mae: 6.2157 - val_loss: 65.9857 - val_mae: 6.2445\n",
            "Epoch 103/200\n",
            "23/23 - 0s - loss: 66.5363 - mae: 6.1436 - val_loss: 64.9310 - val_mae: 6.2125\n",
            "Epoch 104/200\n",
            "23/23 - 0s - loss: 66.9851 - mae: 6.1848 - val_loss: 67.9750 - val_mae: 6.4756\n",
            "Epoch 105/200\n",
            "23/23 - 0s - loss: 66.5465 - mae: 6.2051 - val_loss: 65.1233 - val_mae: 6.1746\n",
            "Epoch 106/200\n",
            "23/23 - 0s - loss: 67.5936 - mae: 6.1986 - val_loss: 67.9553 - val_mae: 6.2460\n",
            "Epoch 107/200\n",
            "23/23 - 0s - loss: 68.3729 - mae: 6.2715 - val_loss: 74.2570 - val_mae: 6.5437\n",
            "Epoch 108/200\n",
            "23/23 - 0s - loss: 65.9236 - mae: 6.1543 - val_loss: 64.9031 - val_mae: 6.2682\n",
            "Epoch 109/200\n",
            "23/23 - 0s - loss: 65.4604 - mae: 6.0853 - val_loss: 63.7099 - val_mae: 6.1546\n",
            "Epoch 110/200\n",
            "23/23 - 0s - loss: 68.0324 - mae: 6.2768 - val_loss: 64.1467 - val_mae: 6.1984\n",
            "Epoch 111/200\n",
            "23/23 - 0s - loss: 66.4069 - mae: 6.1717 - val_loss: 70.7303 - val_mae: 6.6681\n",
            "Epoch 112/200\n",
            "23/23 - 0s - loss: 67.3190 - mae: 6.2326 - val_loss: 72.6597 - val_mae: 6.8024\n",
            "Epoch 113/200\n",
            "23/23 - 0s - loss: 67.2344 - mae: 6.2488 - val_loss: 72.8700 - val_mae: 6.4967\n",
            "Epoch 114/200\n",
            "23/23 - 0s - loss: 69.1414 - mae: 6.3864 - val_loss: 67.2444 - val_mae: 6.2066\n",
            "Epoch 115/200\n",
            "23/23 - 0s - loss: 66.8508 - mae: 6.1005 - val_loss: 62.4707 - val_mae: 6.1248\n",
            "Epoch 116/200\n",
            "23/23 - 0s - loss: 64.1546 - mae: 6.1609 - val_loss: 63.4588 - val_mae: 6.0347\n",
            "Epoch 117/200\n",
            "23/23 - 0s - loss: 61.7957 - mae: 5.9087 - val_loss: 66.1370 - val_mae: 6.4050\n",
            "Epoch 118/200\n",
            "23/23 - 0s - loss: 66.8575 - mae: 6.2288 - val_loss: 73.4128 - val_mae: 6.8478\n",
            "Epoch 119/200\n",
            "23/23 - 0s - loss: 65.4992 - mae: 6.1938 - val_loss: 78.8096 - val_mae: 7.1801\n",
            "Epoch 120/200\n",
            "23/23 - 0s - loss: 72.1608 - mae: 6.5507 - val_loss: 65.2649 - val_mae: 6.3678\n",
            "Epoch 121/200\n",
            "23/23 - 0s - loss: 71.9895 - mae: 6.6123 - val_loss: 62.4748 - val_mae: 6.0025\n",
            "Epoch 122/200\n",
            "23/23 - 0s - loss: 63.2453 - mae: 5.9704 - val_loss: 62.6293 - val_mae: 6.0068\n",
            "Epoch 123/200\n",
            "23/23 - 0s - loss: 65.2756 - mae: 6.1636 - val_loss: 60.6664 - val_mae: 6.0341\n",
            "Epoch 124/200\n",
            "23/23 - 0s - loss: 60.9629 - mae: 5.8594 - val_loss: 62.5748 - val_mae: 6.2016\n",
            "Epoch 125/200\n",
            "23/23 - 0s - loss: 61.4132 - mae: 5.9302 - val_loss: 61.7749 - val_mae: 6.1653\n",
            "Epoch 126/200\n",
            "23/23 - 0s - loss: 60.9810 - mae: 5.9291 - val_loss: 60.3152 - val_mae: 5.9014\n",
            "Epoch 127/200\n",
            "23/23 - 0s - loss: 61.9369 - mae: 5.8520 - val_loss: 58.9700 - val_mae: 5.9055\n",
            "Epoch 128/200\n",
            "23/23 - 0s - loss: 61.8352 - mae: 5.9937 - val_loss: 60.5575 - val_mae: 5.9101\n",
            "Epoch 129/200\n",
            "23/23 - 0s - loss: 60.0417 - mae: 5.8294 - val_loss: 59.9042 - val_mae: 6.0179\n",
            "Epoch 130/200\n",
            "23/23 - 0s - loss: 61.4834 - mae: 5.9263 - val_loss: 59.9161 - val_mae: 6.0371\n",
            "Epoch 131/200\n",
            "23/23 - 0s - loss: 58.5913 - mae: 5.6979 - val_loss: 59.0919 - val_mae: 5.9873\n",
            "Epoch 132/200\n",
            "23/23 - 0s - loss: 60.1498 - mae: 5.8550 - val_loss: 58.0373 - val_mae: 5.8233\n",
            "Epoch 133/200\n",
            "23/23 - 0s - loss: 58.9861 - mae: 5.7696 - val_loss: 58.3626 - val_mae: 5.9028\n",
            "Epoch 134/200\n",
            "23/23 - 0s - loss: 60.7429 - mae: 5.9400 - val_loss: 60.4310 - val_mae: 6.1016\n",
            "Epoch 135/200\n",
            "23/23 - 0s - loss: 59.0602 - mae: 5.7390 - val_loss: 74.4284 - val_mae: 7.0287\n",
            "Epoch 136/200\n",
            "23/23 - 0s - loss: 60.1235 - mae: 5.8923 - val_loss: 57.8868 - val_mae: 5.8911\n",
            "Epoch 137/200\n",
            "23/23 - 0s - loss: 57.7232 - mae: 5.6833 - val_loss: 58.5409 - val_mae: 5.8327\n",
            "Epoch 138/200\n",
            "23/23 - 0s - loss: 59.5228 - mae: 5.8583 - val_loss: 61.1376 - val_mae: 5.9393\n",
            "Epoch 139/200\n",
            "23/23 - 0s - loss: 63.5970 - mae: 6.0147 - val_loss: 63.8425 - val_mae: 6.3628\n",
            "Epoch 140/200\n",
            "23/23 - 0s - loss: 58.8439 - mae: 5.9167 - val_loss: 57.1231 - val_mae: 5.8798\n",
            "Epoch 141/200\n",
            "23/23 - 0s - loss: 58.1679 - mae: 5.7504 - val_loss: 57.0762 - val_mae: 5.8610\n",
            "Epoch 142/200\n",
            "23/23 - 0s - loss: 58.9453 - mae: 5.8412 - val_loss: 57.9864 - val_mae: 5.7830\n",
            "Epoch 143/200\n",
            "23/23 - 0s - loss: 57.8653 - mae: 5.6421 - val_loss: 57.3570 - val_mae: 5.7609\n",
            "Epoch 144/200\n",
            "23/23 - 0s - loss: 58.9632 - mae: 5.7756 - val_loss: 56.3974 - val_mae: 5.8413\n",
            "Epoch 145/200\n",
            "23/23 - 0s - loss: 56.9904 - mae: 5.6256 - val_loss: 61.0927 - val_mae: 6.2351\n",
            "Epoch 146/200\n",
            "23/23 - 0s - loss: 59.6268 - mae: 5.8657 - val_loss: 63.3924 - val_mae: 6.4065\n",
            "Epoch 147/200\n",
            "23/23 - 0s - loss: 60.4732 - mae: 5.8524 - val_loss: 55.9860 - val_mae: 5.7471\n",
            "Epoch 148/200\n",
            "23/23 - 0s - loss: 58.5535 - mae: 5.8179 - val_loss: 55.3934 - val_mae: 5.7912\n",
            "Epoch 149/200\n",
            "23/23 - 0s - loss: 57.6656 - mae: 5.7534 - val_loss: 55.7861 - val_mae: 5.8283\n",
            "Epoch 150/200\n",
            "23/23 - 0s - loss: 55.7331 - mae: 5.6053 - val_loss: 54.3326 - val_mae: 5.6389\n",
            "Epoch 151/200\n",
            "23/23 - 0s - loss: 57.2535 - mae: 5.7259 - val_loss: 72.1150 - val_mae: 6.4788\n",
            "Epoch 152/200\n",
            "23/23 - 0s - loss: 63.0370 - mae: 5.9743 - val_loss: 55.5581 - val_mae: 5.8297\n",
            "Epoch 153/200\n",
            "23/23 - 0s - loss: 55.9784 - mae: 5.6082 - val_loss: 53.9033 - val_mae: 5.6634\n",
            "Epoch 154/200\n",
            "23/23 - 0s - loss: 55.5314 - mae: 5.6203 - val_loss: 53.3800 - val_mae: 5.6338\n",
            "Epoch 155/200\n",
            "23/23 - 0s - loss: 58.8416 - mae: 5.7367 - val_loss: 56.4092 - val_mae: 5.6809\n",
            "Epoch 156/200\n",
            "23/23 - 0s - loss: 54.8651 - mae: 5.5128 - val_loss: 54.1784 - val_mae: 5.7001\n",
            "Epoch 157/200\n",
            "23/23 - 0s - loss: 56.9111 - mae: 5.7111 - val_loss: 53.3590 - val_mae: 5.5871\n",
            "Epoch 158/200\n",
            "23/23 - 0s - loss: 55.5987 - mae: 5.6874 - val_loss: 53.0762 - val_mae: 5.5974\n",
            "Epoch 159/200\n",
            "23/23 - 0s - loss: 63.5536 - mae: 6.2308 - val_loss: 53.3066 - val_mae: 5.5981\n",
            "Epoch 160/200\n",
            "23/23 - 0s - loss: 62.0896 - mae: 6.0001 - val_loss: 55.1685 - val_mae: 5.8603\n",
            "Epoch 161/200\n",
            "23/23 - 0s - loss: 54.9318 - mae: 5.5634 - val_loss: 54.4005 - val_mae: 5.7944\n",
            "Epoch 162/200\n",
            "23/23 - 0s - loss: 54.5433 - mae: 5.5618 - val_loss: 56.4937 - val_mae: 5.6931\n",
            "Epoch 163/200\n",
            "23/23 - 0s - loss: 54.4309 - mae: 5.5292 - val_loss: 53.8987 - val_mae: 5.6149\n",
            "Epoch 164/200\n",
            "23/23 - 0s - loss: 56.1665 - mae: 5.6199 - val_loss: 52.9058 - val_mae: 5.6639\n",
            "Epoch 165/200\n",
            "23/23 - 0s - loss: 53.4511 - mae: 5.4631 - val_loss: 52.7548 - val_mae: 5.5440\n",
            "Epoch 166/200\n",
            "23/23 - 0s - loss: 53.3496 - mae: 5.4465 - val_loss: 53.3122 - val_mae: 5.7204\n",
            "Epoch 167/200\n",
            "23/23 - 0s - loss: 53.6909 - mae: 5.5489 - val_loss: 54.3930 - val_mae: 5.5837\n",
            "Epoch 168/200\n",
            "23/23 - 0s - loss: 53.6878 - mae: 5.4909 - val_loss: 53.7964 - val_mae: 5.7773\n",
            "Epoch 169/200\n",
            "23/23 - 0s - loss: 52.8005 - mae: 5.4612 - val_loss: 51.6078 - val_mae: 5.6072\n",
            "Epoch 170/200\n",
            "23/23 - 0s - loss: 53.6015 - mae: 5.4514 - val_loss: 52.1106 - val_mae: 5.6149\n",
            "Epoch 171/200\n",
            "23/23 - 0s - loss: 54.3986 - mae: 5.5589 - val_loss: 56.3091 - val_mae: 5.6818\n",
            "Epoch 172/200\n",
            "23/23 - 0s - loss: 55.4185 - mae: 5.7002 - val_loss: 56.2328 - val_mae: 5.9880\n",
            "Epoch 173/200\n",
            "23/23 - 0s - loss: 55.7240 - mae: 5.6218 - val_loss: 52.0855 - val_mae: 5.5554\n",
            "Epoch 174/200\n",
            "23/23 - 0s - loss: 55.5666 - mae: 5.5939 - val_loss: 57.8023 - val_mae: 5.7326\n",
            "Epoch 175/200\n",
            "23/23 - 0s - loss: 54.2138 - mae: 5.6182 - val_loss: 52.9316 - val_mae: 5.5575\n",
            "Epoch 176/200\n",
            "23/23 - 0s - loss: 54.4518 - mae: 5.5392 - val_loss: 56.3521 - val_mae: 5.6802\n",
            "Epoch 177/200\n",
            "23/23 - 0s - loss: 56.7666 - mae: 5.7037 - val_loss: 53.1430 - val_mae: 5.7700\n",
            "Epoch 178/200\n",
            "23/23 - 0s - loss: 54.0954 - mae: 5.5310 - val_loss: 53.0397 - val_mae: 5.5260\n",
            "Epoch 179/200\n",
            "23/23 - 0s - loss: 53.4918 - mae: 5.4539 - val_loss: 51.8713 - val_mae: 5.6560\n",
            "Restoring model weights from the end of the best epoch.\n",
            "Epoch 00179: early stopping\n"
          ],
          "name": "stdout"
        }
      ]
    },
    {
      "cell_type": "code",
      "metadata": {
        "colab": {
          "base_uri": "https://localhost:8080/"
        },
        "id": "ePHAyKOlV637",
        "outputId": "48ea51ce-e9a3-4542-e201-824f5239eee6"
      },
      "source": [
        "from sklearn.metrics import mean_squared_error\r\n",
        "y_pred_ = model.predict(X_test)\r\n",
        "RMSE = np.sqrt(mean_squared_error(y_true=y_test,y_pred=y_pred_))\r\n",
        "print(f\"RMSE: {RMSE}\")"
      ],
      "execution_count": null,
      "outputs": [
        {
          "output_type": "stream",
          "text": [
            "RMSE: 7.183859602358856\n"
          ],
          "name": "stdout"
        }
      ]
    },
    {
      "cell_type": "code",
      "metadata": {
        "colab": {
          "base_uri": "https://localhost:8080/",
          "height": 295
        },
        "id": "hxVzUqDQW0mH",
        "outputId": "977320b8-6687-4ef9-fc5f-fa119d1c9bb7"
      },
      "source": [
        "%matplotlib inline\r\n",
        "import matplotlib.pyplot as plt\r\n",
        "plt.plot(history.history['loss'])\r\n",
        "plt.plot(history.history['val_loss'])\r\n",
        "plt.title('model loss')\r\n",
        "plt.ylabel('loss')\r\n",
        "plt.xlabel('epoch')\r\n",
        "plt.legend(['train', 'test'], loc='upper right')\r\n",
        "plt.show()"
      ],
      "execution_count": null,
      "outputs": [
        {
          "output_type": "display_data",
          "data": {
            "image/png": "[encoded data removed]",
            "text/plain": [
              "<Figure size 432x288 with 1 Axes>"
            ]
          },
          "metadata": {
            "tags": [],
            "needs_background": "light"
          }
        }
      ]
    },
    {
      "cell_type": "code",
      "metadata": {
        "id": "EKRajJFAXGRl"
      },
      "source": [
        ""
      ],
      "execution_count": null,
      "outputs": []
    }
  ]
}